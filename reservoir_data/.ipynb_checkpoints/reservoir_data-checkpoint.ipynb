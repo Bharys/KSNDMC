{
 "cells": [
  {
   "cell_type": "code",
   "execution_count": 1,
   "metadata": {},
   "outputs": [],
   "source": [
    "import requests, re\n",
    "import pandas as pd, numpy as np\n",
    "from bs4 import BeautifulSoup"
   ]
  },
  {
   "cell_type": "code",
   "execution_count": 2,
   "metadata": {},
   "outputs": [],
   "source": [
    "from selenium import webdriver\n",
    "from selenium.webdriver.common.keys import Keys\n",
    "from selenium.webdriver.support.ui import Select"
   ]
  },
  {
   "cell_type": "code",
   "execution_count": 3,
   "metadata": {},
   "outputs": [],
   "source": [
    "from selenium.webdriver.support.ui import WebDriverWait\n",
    "from selenium.webdriver.support import expected_conditions as EC\n",
    "from selenium.webdriver.common.by import By"
   ]
  },
  {
   "cell_type": "code",
   "execution_count": 4,
   "metadata": {},
   "outputs": [],
   "source": [
    "reservoir_id = 'ctl00_cpMainContent_DropDownList1'\n",
    "year_id = 'ctl00_cpMainContent_Year_list'\n",
    "week_id = 'ctl00_cpMainContent_weekList'\n",
    "data_fetch_button = 'ctl00_cpMainContent_Button1'\n",
    "table_id = 'ctl00_cpMainContent_GridView1'"
   ]
  },
  {
   "cell_type": "code",
   "execution_count": 5,
   "metadata": {},
   "outputs": [],
   "source": [
    "reservoir_key = \\\n",
    "['Linganamakki',\n",
    "'Supa',\n",
    "'Varahi',\n",
    "'Harangi',\n",
    "'Hemavathi',\n",
    "'K.R.S',\n",
    "'Kabini',\n",
    "'Bhadra',\n",
    "'Tungabhadra',\n",
    "'Ghataprabha',\n",
    "'Malaprabha',\n",
    "'Almatti',\n",
    "'Narayanapura']"
   ]
  },
  {
   "cell_type": "code",
   "execution_count": 6,
   "metadata": {},
   "outputs": [],
   "source": [
    "col_name = ['Reservoir','Date','Live_Storage(TMC)','Reservoir_level(ft/m)','Inflow','Outflow']"
   ]
  },
  {
   "cell_type": "code",
   "execution_count": 7,
   "metadata": {},
   "outputs": [],
   "source": [
    "url = 'https://www.ksndmc.org/Reservoir_Details_Kn.aspx'\n",
    "gecko_driver_path ='/home/bharath/P/gecko_driver/geckodriver'\n",
    "chromium_driver_path = '/home/bharath/P/chromium_web_driver/chromedriver'"
   ]
  },
  {
   "cell_type": "code",
   "execution_count": null,
   "metadata": {},
   "outputs": [],
   "source": [
    "from selenium.webdriver.chrome.options import Options  "
   ]
  },
  {
   "cell_type": "code",
   "execution_count": 8,
   "metadata": {},
   "outputs": [],
   "source": [
    "driver = webdriver.Chrome(executable_path= chromium_driver_path)\n",
    "driver.get(url)"
   ]
  },
  {
   "cell_type": "code",
   "execution_count": 14,
   "metadata": {},
   "outputs": [],
   "source": [
    "req_reservoirs = ['K.R.S','Kabini']"
   ]
  },
  {
   "cell_type": "code",
   "execution_count": 15,
   "metadata": {},
   "outputs": [],
   "source": [
    "def extract_table_data(page):\n",
    "    soup = BeautifulSoup(page,'html.parser')\n",
    "    table = soup.find(id = table_id)\n",
    "    df = pd.read_html(str(table))[0]\n",
    "    df.iloc[:,1]=df.apply(lambda x:pd.to_datetime(x[1]).date(),axis=1)\n",
    "    return df.values"
   ]
  },
  {
   "cell_type": "code",
   "execution_count": 17,
   "metadata": {},
   "outputs": [],
   "source": [
    "error_array = []"
   ]
  },
  {
   "cell_type": "code",
   "execution_count": 18,
   "metadata": {},
   "outputs": [],
   "source": [
    "for reservoir in req_reservoirs:  \n",
    "    select_reservoir = Select(driver.find_element_by_id(reservoir_id))\n",
    "    select_reservoir.select_by_value(reservoir) \n",
    "    reservoir_flow_details = np.array(col_name)\n",
    "    year = Select(driver.find_element_by_id(year_id))\n",
    "    for yr_idx in range(len(year.options)):  \n",
    "        try:\n",
    "            select_year = Select(driver.find_element_by_id(year_id))\n",
    "            select_year.select_by_index(yr_idx)\n",
    "            week = Select(driver.find_element_by_id(week_id))\n",
    "            for week_idx in range(len(week.options)):\n",
    "                try:\n",
    "                    select_week = Select(driver.find_element_by_id(week_id))\n",
    "                    select_week.select_by_index(week_idx)\n",
    "                    driver.find_element_by_id(data_fetch_button).click()\n",
    "                    WebDriverWait(driver,3).until(EC.presence_of_element_located((By.ID,week_id)))\n",
    "                    page = str(driver.page_source)\n",
    "                    if('NO RECORD' in page): continue\n",
    "                    else: reservoir_flow_details=np.vstack([reservoir_flow_details,extract_table_data(page)])\n",
    "                except:\n",
    "                    error_array.append(reservoir_flow_details[-1])\n",
    "                    continue \n",
    "        except:\n",
    "            error_array.append(reservoir_flow_details[-1])\n",
    "            continue   \n",
    "\n",
    "    np.savetxt(reservoir+'.csv',reservoir_flow_details,fmt='%s',delimiter=',')              "
   ]
  }
 ],
 "metadata": {
  "kernelspec": {
   "display_name": "Python 3",
   "language": "python",
   "name": "python3"
  },
  "language_info": {
   "codemirror_mode": {
    "name": "ipython",
    "version": 3
   },
   "file_extension": ".py",
   "mimetype": "text/x-python",
   "name": "python",
   "nbconvert_exporter": "python",
   "pygments_lexer": "ipython3",
   "version": "3.7.3"
  }
 },
 "nbformat": 4,
 "nbformat_minor": 2
}
