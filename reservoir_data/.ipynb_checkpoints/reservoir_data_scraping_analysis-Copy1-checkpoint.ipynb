{
 "cells": [
  {
   "cell_type": "code",
   "execution_count": 1,
   "metadata": {},
   "outputs": [],
   "source": [
    "import requests, re\n",
    "import pandas as pd, numpy as np\n",
    "from bs4 import BeautifulSoup"
   ]
  },
  {
   "cell_type": "code",
   "execution_count": 2,
   "metadata": {},
   "outputs": [],
   "source": [
    "from selenium import webdriver\n",
    "from selenium.webdriver.common.keys import Keys\n",
    "from selenium.webdriver.support.ui import Select"
   ]
  },
  {
   "cell_type": "code",
   "execution_count": 3,
   "metadata": {},
   "outputs": [],
   "source": [
    "from selenium.webdriver.support.ui import WebDriverWait\n",
    "from selenium.webdriver.support import expected_conditions as EC\n",
    "from selenium.webdriver.common.by import By\n",
    "from selenium.webdriver.chrome.options import Options  "
   ]
  },
  {
   "cell_type": "code",
   "execution_count": 4,
   "metadata": {},
   "outputs": [],
   "source": [
    "reservoir_id = 'ctl00_cpMainContent_DropDownList1'\n",
    "year_id = 'ctl00_cpMainContent_Year_list'\n",
    "week_id = 'ctl00_cpMainContent_weekList'\n",
    "data_fetch_button = 'ctl00_cpMainContent_Button1'\n",
    "table_id = 'ctl00_cpMainContent_GridView1'"
   ]
  },
  {
   "cell_type": "code",
   "execution_count": 5,
   "metadata": {},
   "outputs": [],
   "source": [
    "reservoir_key = \\\n",
    "['Linganamakki',\n",
    "'Supa',\n",
    "'Varahi',\n",
    "'Harangi',\n",
    "'Hemavathi',\n",
    "'K.R.S',\n",
    "'Kabini',\n",
    "'Bhadra',\n",
    "'Tungabhadra',\n",
    "'Ghataprabha',\n",
    "'Malaprabha',\n",
    "'Almatti',\n",
    "'Narayanapura']"
   ]
  },
  {
   "cell_type": "code",
   "execution_count": 6,
   "metadata": {},
   "outputs": [],
   "source": [
    "col_name = ['Reservoir','Date','Live_Storage(TMC)','Reservoir_level(ft/m)','Inflow','Outflow']"
   ]
  },
  {
   "cell_type": "code",
   "execution_count": 7,
   "metadata": {},
   "outputs": [],
   "source": [
    "url = 'https://www.ksndmc.org/Reservoir_Details_Kn.aspx'\n",
    "# gecko_driver_path ='/home/bharath/P/gecko_driver/geckodriver'\n",
    "chromium_driver_path = '/home/bharath/P/chromium_web_driver/chromedriver'"
   ]
  },
  {
   "cell_type": "code",
   "execution_count": 8,
   "metadata": {},
   "outputs": [],
   "source": [
    "chrome_options = Options()  \n",
    "chrome_options.add_argument(\"--headless\")  "
   ]
  },
  {
   "cell_type": "code",
   "execution_count": 9,
   "metadata": {},
   "outputs": [],
   "source": [
    "# To see the browser in action, remove the options parameter\n",
    "driver = webdriver.Chrome(executable_path= chromium_driver_path,options=chrome_options)\n",
    "driver.get(url)"
   ]
  },
  {
   "cell_type": "code",
   "execution_count": 57,
   "metadata": {},
   "outputs": [],
   "source": [
    "# Use the above reservoir keys to get the data\n",
    "req_reservoirs = ['Supa']"
   ]
  },
  {
   "cell_type": "code",
   "execution_count": 11,
   "metadata": {},
   "outputs": [],
   "source": [
    "def extract_table_data(page):\n",
    "    soup = BeautifulSoup(page,'html.parser')\n",
    "    table = soup.find(id = table_id)\n",
    "    df = pd.read_html(str(table))[0]\n",
    "    df.iloc[:,1]=df.apply(lambda x:pd.to_datetime(x[1]).date(),axis=1)\n",
    "    return df.values"
   ]
  },
  {
   "cell_type": "code",
   "execution_count": 12,
   "metadata": {},
   "outputs": [],
   "source": [
    "error_array = []"
   ]
  },
  {
   "cell_type": "code",
   "execution_count": 58,
   "metadata": {},
   "outputs": [
    {
     "name": "stdout",
     "output_type": "stream",
     "text": [
      "Fetching data for  Supa\n",
      "\n",
      " Data fetch completed for  Supa\n"
     ]
    }
   ],
   "source": [
    "# Fetches the data for all weeks & years available, each reservoir data may take 5 min to scrape\n",
    "# Loop through Reservoir-year-week wise\n",
    "\n",
    "for reservoir in req_reservoirs: \n",
    "    print('Fetching data for',reservoir)\n",
    "    select_reservoir = Select(driver.find_element_by_id(reservoir_id))\n",
    "    select_reservoir.select_by_value(reservoir) \n",
    "    reservoir_flow_details = np.array(col_name)\n",
    "    year = Select(driver.find_element_by_id(year_id))\n",
    "    for yr_idx in range(len(year.options)):  \n",
    "        select_year = Select(driver.find_element_by_id(year_id))\n",
    "        select_year.select_by_index(yr_idx)\n",
    "        week = Select(driver.find_element_by_id(week_id))\n",
    "        for week_idx in range(len(week.options)):\n",
    "            try:\n",
    "                select_week = Select(driver.find_element_by_id(week_id))\n",
    "                select_week.select_by_index(week_idx)\n",
    "                driver.find_element_by_id(data_fetch_button).click()\n",
    "                WebDriverWait(driver,3).until(EC.presence_of_element_located((By.ID,week_id)))\n",
    "                page = str(driver.page_source)\n",
    "                if('NO RECORD' in page): continue\n",
    "                else: reservoir_flow_details=np.vstack([reservoir_flow_details,extract_table_data(page)])\n",
    "            except:\n",
    "                error_array.append(reservoir_flow_details[-1])\n",
    "    # Save the data \n",
    "    print('\\n Data fetch completed for ',reservoir)\n",
    "    np.savetxt(reservoir+'.csv',reservoir_flow_details,fmt='%s',delimiter=',')              "
   ]
  },
  {
   "cell_type": "code",
   "execution_count": 59,
   "metadata": {},
   "outputs": [
    {
     "name": "stdout",
     "output_type": "stream",
     "text": [
      " Hurray!, No error\n"
     ]
    }
   ],
   "source": [
    "if(len(error_array)==0):print(\" Hurray!, No error\")\n",
    "else:error_array"
   ]
  },
  {
   "cell_type": "markdown",
   "metadata": {},
   "source": [
    "### EDA K.R.S"
   ]
  },
  {
   "cell_type": "code",
   "execution_count": 42,
   "metadata": {},
   "outputs": [],
   "source": [
    "import matplotlib.pyplot as plt\n",
    "import seaborn as sns\n",
    "import datetime\n",
    "%matplotlib inline\n",
    "# %matplotlib notebook"
   ]
  },
  {
   "cell_type": "code",
   "execution_count": 21,
   "metadata": {},
   "outputs": [],
   "source": [
    "# Max storage of K.R.S in TMC\n",
    "gross_storage =  49.45 "
   ]
  },
  {
   "cell_type": "code",
   "execution_count": 22,
   "metadata": {},
   "outputs": [],
   "source": [
    "krs = pd.read_csv('K.R.S.csv')"
   ]
  },
  {
   "cell_type": "code",
   "execution_count": 23,
   "metadata": {
    "scrolled": true
   },
   "outputs": [
    {
     "data": {
      "text/html": [
       "<div>\n",
       "<style scoped>\n",
       "    .dataframe tbody tr th:only-of-type {\n",
       "        vertical-align: middle;\n",
       "    }\n",
       "\n",
       "    .dataframe tbody tr th {\n",
       "        vertical-align: top;\n",
       "    }\n",
       "\n",
       "    .dataframe thead th {\n",
       "        text-align: right;\n",
       "    }\n",
       "</style>\n",
       "<table border=\"1\" class=\"dataframe\">\n",
       "  <thead>\n",
       "    <tr style=\"text-align: right;\">\n",
       "      <th></th>\n",
       "      <th>Reservoir</th>\n",
       "      <th>Date</th>\n",
       "      <th>Live_Storage(TMC)</th>\n",
       "      <th>Reservoir_level(ft/m)</th>\n",
       "      <th>Inflow</th>\n",
       "      <th>Outflow</th>\n",
       "    </tr>\n",
       "  </thead>\n",
       "  <tbody>\n",
       "    <tr>\n",
       "      <th>0</th>\n",
       "      <td>K.R.S</td>\n",
       "      <td>2010-09-30</td>\n",
       "      <td>46.18</td>\n",
       "      <td>122.41</td>\n",
       "      <td>2706.0</td>\n",
       "      <td>6840</td>\n",
       "    </tr>\n",
       "    <tr>\n",
       "      <th>1</th>\n",
       "      <td>K.R.S</td>\n",
       "      <td>2010-12-31</td>\n",
       "      <td>45.81</td>\n",
       "      <td>122.13</td>\n",
       "      <td>2668.0</td>\n",
       "      <td>6795</td>\n",
       "    </tr>\n",
       "    <tr>\n",
       "      <th>2</th>\n",
       "      <td>K.R.S</td>\n",
       "      <td>2011-01-01</td>\n",
       "      <td>46.42</td>\n",
       "      <td>122.59</td>\n",
       "      <td>2029.0</td>\n",
       "      <td>2000</td>\n",
       "    </tr>\n",
       "    <tr>\n",
       "      <th>3</th>\n",
       "      <td>K.R.S</td>\n",
       "      <td>2011-01-02</td>\n",
       "      <td>46.54</td>\n",
       "      <td>122.68</td>\n",
       "      <td>3084.0</td>\n",
       "      <td>1490</td>\n",
       "    </tr>\n",
       "    <tr>\n",
       "      <th>4</th>\n",
       "      <td>K.R.S</td>\n",
       "      <td>2011-01-03</td>\n",
       "      <td>46.64</td>\n",
       "      <td>122.75</td>\n",
       "      <td>2776.0</td>\n",
       "      <td>1491</td>\n",
       "    </tr>\n",
       "  </tbody>\n",
       "</table>\n",
       "</div>"
      ],
      "text/plain": [
       "  Reservoir        Date  Live_Storage(TMC)  Reservoir_level(ft/m)  Inflow  \\\n",
       "0     K.R.S  2010-09-30              46.18                 122.41  2706.0   \n",
       "1     K.R.S  2010-12-31              45.81                 122.13  2668.0   \n",
       "2     K.R.S  2011-01-01              46.42                 122.59  2029.0   \n",
       "3     K.R.S  2011-01-02              46.54                 122.68  3084.0   \n",
       "4     K.R.S  2011-01-03              46.64                 122.75  2776.0   \n",
       "\n",
       "   Outflow  \n",
       "0     6840  \n",
       "1     6795  \n",
       "2     2000  \n",
       "3     1490  \n",
       "4     1491  "
      ]
     },
     "execution_count": 23,
     "metadata": {},
     "output_type": "execute_result"
    }
   ],
   "source": [
    "krs.head()"
   ]
  },
  {
   "cell_type": "code",
   "execution_count": 24,
   "metadata": {},
   "outputs": [],
   "source": [
    "krs = krs[krs['Live_Storage(TMC)']!=0]"
   ]
  },
  {
   "cell_type": "code",
   "execution_count": 25,
   "metadata": {},
   "outputs": [],
   "source": [
    "# Scale the data by the max gross storage capacity\n",
    "\n",
    "krs['storage_level'] = krs['Live_Storage(TMC)']*100/gross_storage "
   ]
  },
  {
   "cell_type": "code",
   "execution_count": 26,
   "metadata": {},
   "outputs": [],
   "source": [
    "# Generate the dates for the desired years\n",
    "date_range = pd.date_range('2010-01-01','2019-12-31')"
   ]
  },
  {
   "cell_type": "code",
   "execution_count": 27,
   "metadata": {},
   "outputs": [],
   "source": [
    "krs.set_index('Date',inplace=True)"
   ]
  },
  {
   "cell_type": "code",
   "execution_count": 28,
   "metadata": {},
   "outputs": [],
   "source": [
    "krs.index = pd.DatetimeIndex(krs.index)"
   ]
  },
  {
   "cell_type": "code",
   "execution_count": 29,
   "metadata": {},
   "outputs": [],
   "source": [
    "krs = krs.reindex(date_range,fill_value=np.nan)"
   ]
  },
  {
   "cell_type": "code",
   "execution_count": 30,
   "metadata": {
    "scrolled": true
   },
   "outputs": [],
   "source": [
    "krs.reset_index(inplace=True)"
   ]
  },
  {
   "cell_type": "code",
   "execution_count": 34,
   "metadata": {},
   "outputs": [],
   "source": [
    "# Generate month array to mark ticks, consider a leap year for max coverage.\n",
    "dates = pd.date_range('2012-01-01','2012-12-31')\n",
    "x_ticks = [ datetime.date(1900,x.month,1).strftime('%b') if x.day==1 else '' for x in dates]"
   ]
  },
  {
   "cell_type": "code",
   "execution_count": 35,
   "metadata": {},
   "outputs": [],
   "source": [
    "krs.rename(columns={\"index\":'Date'},inplace=True)"
   ]
  },
  {
   "cell_type": "code",
   "execution_count": 43,
   "metadata": {
    "scrolled": false
   },
   "outputs": [],
   "source": [
    "def plot_storage_year(year_list,title=''):\n",
    "    fig,ax = plt.subplots(figsize=(10,7))\n",
    "    for yr in year_list:\n",
    "        mask = (krs['Date']>=pd.datetime(yr,1,1)) & (krs['Date']<pd.datetime(yr+1,1,1))\n",
    "        data = krs[mask]['storage_level']\n",
    "        data = data[data!=0] # Remove outliers\n",
    "#         data = data.drop(data[data==0].index) # Remove outliers \n",
    "        ax.plot(range(1,len(data)+1),data,label=yr)\n",
    "\n",
    "    plt.ylabel('Storage level % ')\n",
    "    plt.title('KRS storage levels ' +title)\n",
    "    plt.xticks(range(1,len(x_ticks)+1),x_ticks)\n",
    "    ax.legend(loc='best',bbox_to_anchor=(1,.5))\n",
    "    plt.show()"
   ]
  },
  {
   "cell_type": "code",
   "execution_count": 37,
   "metadata": {
    "scrolled": true
   },
   "outputs": [],
   "source": [
    "year_wise_group =  krs.groupby(krs.Date.dt.year)['storage_level']"
   ]
  },
  {
   "cell_type": "code",
   "execution_count": 38,
   "metadata": {},
   "outputs": [
    {
     "data": {
      "text/plain": [
       "Int64Index([2010, 2012, 2015, 2016, 2017, 2019], dtype='int64', name='Date')"
      ]
     },
     "execution_count": 38,
     "metadata": {},
     "output_type": "execute_result"
    }
   ],
   "source": [
    "# Deficit years are those where dam failed to fill up\n",
    "deficit_year = year_wise_group.max() < 100\n",
    "deficit_year.index[deficit_year]"
   ]
  },
  {
   "cell_type": "code",
   "execution_count": 39,
   "metadata": {},
   "outputs": [
    {
     "data": {
      "text/plain": [
       "Int64Index([2011, 2013, 2014, 2018], dtype='int64', name='Date')"
      ]
     },
     "execution_count": 39,
     "metadata": {},
     "output_type": "execute_result"
    }
   ],
   "source": [
    "# Bountiful years where dam fille up to max level\n",
    "bountiful_year = year_wise_group.max() == 100\n",
    "bountiful_year.index[bountiful_year]"
   ]
  },
  {
   "cell_type": "markdown",
   "metadata": {},
   "source": [
    "### Storage levels ( % )"
   ]
  },
  {
   "cell_type": "code",
   "execution_count": 44,
   "metadata": {
    "scrolled": false
   },
   "outputs": [
    {
     "data": {
      "image/png": "[encoded data removed]",
      "text/plain": [
       "<Figure size 720x504 with 1 Axes>"
      ]
     },
     "metadata": {
      "needs_background": "light"
     },
     "output_type": "display_data"
    }
   ],
   "source": [
    "plot_storage_year(bountiful_year.index[bountiful_year],'bountiful years')"
   ]
  },
  {
   "cell_type": "code",
   "execution_count": 45,
   "metadata": {},
   "outputs": [
    {
     "data": {
      "image/png": "[encoded data removed]",
      "text/plain": [
       "<Figure size 720x504 with 1 Axes>"
      ]
     },
     "metadata": {
      "needs_background": "light"
     },
     "output_type": "display_data"
    }
   ],
   "source": [
    "plot_storage_year(deficit_year.index[deficit_year],'deficit years')"
   ]
  },
  {
   "cell_type": "markdown",
   "metadata": {},
   "source": [
    "#### In the past 9 years only in 2012 was the storage level below the current year by end of July"
   ]
  },
  {
   "cell_type": "code",
   "execution_count": 46,
   "metadata": {},
   "outputs": [
    {
     "data": {
      "image/png": "[encoded data removed]",
      "text/plain": [
       "<Figure size 720x504 with 1 Axes>"
      ]
     },
     "metadata": {
      "needs_background": "light"
     },
     "output_type": "display_data"
    }
   ],
   "source": [
    "plot_storage_year([2012,2014,2018,2019])"
   ]
  },
  {
   "cell_type": "markdown",
   "metadata": {},
   "source": [
    "#### Stark contrast to last year storage levels in July, yawning gap"
   ]
  },
  {
   "cell_type": "markdown",
   "metadata": {},
   "source": [
    "## Explore month wise "
   ]
  },
  {
   "cell_type": "code",
   "execution_count": 47,
   "metadata": {},
   "outputs": [],
   "source": [
    "data_group_month = krs.groupby([krs.Date.dt.year,krs.Date.dt.month])['storage_level']\n",
    "year_month_wise_max = data_group_month.max()\n",
    "year_month_wise_min = data_group_month.min()"
   ]
  },
  {
   "cell_type": "code",
   "execution_count": 48,
   "metadata": {},
   "outputs": [],
   "source": [
    "month_names = pd.date_range('2016-01-01','2016-12-07',freq='MS').strftime(\"%b\").tolist()"
   ]
  },
  {
   "cell_type": "code",
   "execution_count": 49,
   "metadata": {},
   "outputs": [],
   "source": [
    "def table_reformat(table):\n",
    "    table = table.reset_index(level=0)\n",
    "    table.rename(columns={'Date':'Year'},inplace=True)\n",
    "    table.index.names=['Month']\n",
    "    table = pd.pivot(table,columns='Year')\n",
    "    table.replace(np.NaN,'',inplace=True)\n",
    "    table.rename(index=dict(zip(range(1,13),month_names)),inplace=True)\n",
    "    table.columns=table.columns.droplevel()\n",
    "    return table"
   ]
  },
  {
   "cell_type": "code",
   "execution_count": 60,
   "metadata": {},
   "outputs": [
    {
     "data": {
      "text/plain": [
       "<matplotlib.axes._subplots.AxesSubplot at 0x7f7613b4c828>"
      ]
     },
     "execution_count": 60,
     "metadata": {},
     "output_type": "execute_result"
    },
    {
     "data": {
      "image/png": "[encoded data removed]",
      "text/plain": [
       "<Figure size 432x288 with 1 Axes>"
      ]
     },
     "metadata": {
      "needs_background": "light"
     },
     "output_type": "display_data"
    }
   ],
   "source": [
    "df = table_reformat(year_month_wise_max)\n",
    "df[bountiful_year.index[bountiful_year].values].plot(title='Max water storage(%)')"
   ]
  },
  {
   "cell_type": "markdown",
   "metadata": {},
   "source": [
    "#### Min storage level(% of max) in each month year wise"
   ]
  },
  {
   "cell_type": "code",
   "execution_count": 51,
   "metadata": {
    "scrolled": false
   },
   "outputs": [
    {
     "data": {
      "text/html": [
       "<div>\n",
       "<style scoped>\n",
       "    .dataframe tbody tr th:only-of-type {\n",
       "        vertical-align: middle;\n",
       "    }\n",
       "\n",
       "    .dataframe tbody tr th {\n",
       "        vertical-align: top;\n",
       "    }\n",
       "\n",
       "    .dataframe thead th {\n",
       "        text-align: right;\n",
       "    }\n",
       "</style>\n",
       "<table border=\"1\" class=\"dataframe\">\n",
       "  <thead>\n",
       "    <tr style=\"text-align: right;\">\n",
       "      <th>Year</th>\n",
       "      <th>2010</th>\n",
       "      <th>2011</th>\n",
       "      <th>2012</th>\n",
       "      <th>2013</th>\n",
       "      <th>2014</th>\n",
       "      <th>2015</th>\n",
       "      <th>2016</th>\n",
       "      <th>2017</th>\n",
       "      <th>2018</th>\n",
       "      <th>2019</th>\n",
       "    </tr>\n",
       "    <tr>\n",
       "      <th>Month</th>\n",
       "      <th></th>\n",
       "      <th></th>\n",
       "      <th></th>\n",
       "      <th></th>\n",
       "      <th></th>\n",
       "      <th></th>\n",
       "      <th></th>\n",
       "      <th></th>\n",
       "      <th></th>\n",
       "      <th></th>\n",
       "    </tr>\n",
       "  </thead>\n",
       "  <tbody>\n",
       "    <tr>\n",
       "      <th>Jan</th>\n",
       "      <td></td>\n",
       "      <td>84.044489</td>\n",
       "      <td>82.8514</td>\n",
       "      <td>23.134479</td>\n",
       "      <td>68.897877</td>\n",
       "      <td>71.304348</td>\n",
       "      <td>46.956522</td>\n",
       "      <td>21.011122</td>\n",
       "      <td>42.548028</td>\n",
       "      <td>65.1769</td>\n",
       "    </tr>\n",
       "    <tr>\n",
       "      <th>Feb</th>\n",
       "      <td></td>\n",
       "      <td>70.475228</td>\n",
       "      <td></td>\n",
       "      <td>18.179980</td>\n",
       "      <td>55.348837</td>\n",
       "      <td>57.472194</td>\n",
       "      <td>36.359960</td>\n",
       "      <td>20.283114</td>\n",
       "      <td>32.093023</td>\n",
       "      <td>55.6117</td>\n",
       "    </tr>\n",
       "    <tr>\n",
       "      <th>Mar</th>\n",
       "      <td></td>\n",
       "      <td>56.400404</td>\n",
       "      <td></td>\n",
       "      <td>15.935288</td>\n",
       "      <td>40.465116</td>\n",
       "      <td>42.628918</td>\n",
       "      <td>24.711830</td>\n",
       "      <td>19.514661</td>\n",
       "      <td>22.022245</td>\n",
       "      <td>41.7391</td>\n",
       "    </tr>\n",
       "    <tr>\n",
       "      <th>Apr</th>\n",
       "      <td></td>\n",
       "      <td>48.554095</td>\n",
       "      <td></td>\n",
       "      <td>12.477250</td>\n",
       "      <td>26.046512</td>\n",
       "      <td>27.603640</td>\n",
       "      <td>22.002022</td>\n",
       "      <td>15.773509</td>\n",
       "      <td>16.258847</td>\n",
       "      <td>29.6461</td>\n",
       "    </tr>\n",
       "    <tr>\n",
       "      <th>May</th>\n",
       "      <td></td>\n",
       "      <td>34.620829</td>\n",
       "      <td>17.088</td>\n",
       "      <td>10.677452</td>\n",
       "      <td>15.894843</td>\n",
       "      <td>19.029323</td>\n",
       "      <td>19.716886</td>\n",
       "      <td>13.063701</td>\n",
       "      <td>13.670374</td>\n",
       "      <td>22.7907</td>\n",
       "    </tr>\n",
       "    <tr>\n",
       "      <th>Jun</th>\n",
       "      <td></td>\n",
       "      <td>34.641052</td>\n",
       "      <td>15.6724</td>\n",
       "      <td>10.171891</td>\n",
       "      <td>15.429727</td>\n",
       "      <td>18.685541</td>\n",
       "      <td>13.771486</td>\n",
       "      <td>12.659252</td>\n",
       "      <td>17.775531</td>\n",
       "      <td>21.5571</td>\n",
       "    </tr>\n",
       "    <tr>\n",
       "      <th>Jul</th>\n",
       "      <td></td>\n",
       "      <td>47.603640</td>\n",
       "      <td>16.8049</td>\n",
       "      <td>33.832154</td>\n",
       "      <td>22.689585</td>\n",
       "      <td>58.078868</td>\n",
       "      <td>20.343782</td>\n",
       "      <td>15.813953</td>\n",
       "      <td>60.566229</td>\n",
       "      <td>21.8605</td>\n",
       "    </tr>\n",
       "    <tr>\n",
       "      <th>Aug</th>\n",
       "      <td></td>\n",
       "      <td>80.343782</td>\n",
       "      <td>19.5956</td>\n",
       "      <td>95.672396</td>\n",
       "      <td>74.256825</td>\n",
       "      <td>52.881699</td>\n",
       "      <td>35.308392</td>\n",
       "      <td>32.113246</td>\n",
       "      <td>86.916077</td>\n",
       "      <td>24.7118</td>\n",
       "    </tr>\n",
       "    <tr>\n",
       "      <th>Sep</th>\n",
       "      <td>93.3873</td>\n",
       "      <td>93.387260</td>\n",
       "      <td>50.0101</td>\n",
       "      <td>93.933266</td>\n",
       "      <td>93.710819</td>\n",
       "      <td>50.819009</td>\n",
       "      <td>25.702730</td>\n",
       "      <td>44.408493</td>\n",
       "      <td>86.531850</td>\n",
       "      <td></td>\n",
       "    </tr>\n",
       "    <tr>\n",
       "      <th>Oct</th>\n",
       "      <td></td>\n",
       "      <td>89.504550</td>\n",
       "      <td>54.3984</td>\n",
       "      <td>93.124368</td>\n",
       "      <td>98.685541</td>\n",
       "      <td>52.740142</td>\n",
       "      <td>18.483316</td>\n",
       "      <td>63.033367</td>\n",
       "      <td>96.966633</td>\n",
       "      <td></td>\n",
       "    </tr>\n",
       "    <tr>\n",
       "      <th>Nov</th>\n",
       "      <td></td>\n",
       "      <td>91.324570</td>\n",
       "      <td>46.1274</td>\n",
       "      <td>83.276036</td>\n",
       "      <td>88.008089</td>\n",
       "      <td>53.528817</td>\n",
       "      <td>19.170880</td>\n",
       "      <td>61.698686</td>\n",
       "      <td>79.373104</td>\n",
       "      <td></td>\n",
       "    </tr>\n",
       "    <tr>\n",
       "      <th>Dec</th>\n",
       "      <td>92.639</td>\n",
       "      <td>82.446916</td>\n",
       "      <td>24.9141</td>\n",
       "      <td>78.078868</td>\n",
       "      <td>81.071790</td>\n",
       "      <td>56.643074</td>\n",
       "      <td>20.566229</td>\n",
       "      <td>52.234580</td>\n",
       "      <td>74.034378</td>\n",
       "      <td></td>\n",
       "    </tr>\n",
       "  </tbody>\n",
       "</table>\n",
       "</div>"
      ],
      "text/plain": [
       "Year      2010       2011     2012       2013       2014       2015  \\\n",
       "Month                                                                 \n",
       "Jan             84.044489  82.8514  23.134479  68.897877  71.304348   \n",
       "Feb             70.475228           18.179980  55.348837  57.472194   \n",
       "Mar             56.400404           15.935288  40.465116  42.628918   \n",
       "Apr             48.554095           12.477250  26.046512  27.603640   \n",
       "May             34.620829   17.088  10.677452  15.894843  19.029323   \n",
       "Jun             34.641052  15.6724  10.171891  15.429727  18.685541   \n",
       "Jul             47.603640  16.8049  33.832154  22.689585  58.078868   \n",
       "Aug             80.343782  19.5956  95.672396  74.256825  52.881699   \n",
       "Sep    93.3873  93.387260  50.0101  93.933266  93.710819  50.819009   \n",
       "Oct             89.504550  54.3984  93.124368  98.685541  52.740142   \n",
       "Nov             91.324570  46.1274  83.276036  88.008089  53.528817   \n",
       "Dec     92.639  82.446916  24.9141  78.078868  81.071790  56.643074   \n",
       "\n",
       "Year        2016       2017       2018     2019  \n",
       "Month                                            \n",
       "Jan    46.956522  21.011122  42.548028  65.1769  \n",
       "Feb    36.359960  20.283114  32.093023  55.6117  \n",
       "Mar    24.711830  19.514661  22.022245  41.7391  \n",
       "Apr    22.002022  15.773509  16.258847  29.6461  \n",
       "May    19.716886  13.063701  13.670374  22.7907  \n",
       "Jun    13.771486  12.659252  17.775531  21.5571  \n",
       "Jul    20.343782  15.813953  60.566229  21.8605  \n",
       "Aug    35.308392  32.113246  86.916077  24.7118  \n",
       "Sep    25.702730  44.408493  86.531850           \n",
       "Oct    18.483316  63.033367  96.966633           \n",
       "Nov    19.170880  61.698686  79.373104           \n",
       "Dec    20.566229  52.234580  74.034378           "
      ]
     },
     "execution_count": 51,
     "metadata": {},
     "output_type": "execute_result"
    }
   ],
   "source": [
    "table_reformat(year_month_wise_min)"
   ]
  },
  {
   "cell_type": "markdown",
   "metadata": {},
   "source": [
    "### Cumulative inflows & outflows ( Units: TMC - ThousandMillionCubicFeet)\n",
    "\n",
    "#### 192 TMC is Karntaka's total obligation to TN as measured at Biligundlu."
   ]
  },
  {
   "cell_type": "code",
   "execution_count": 52,
   "metadata": {
    "scrolled": false
   },
   "outputs": [],
   "source": [
    "def cumulative_flow(key='Inflow'):\n",
    "    \n",
    "    # Consider a month only if atleast 28 days figures are available\n",
    "    total_flow = krs.groupby([krs.Date.dt.year,krs.Date.dt.month])[key].sum(min_count=28)\n",
    "    \n",
    "    # Reported inflow is considered as average for the whole day\n",
    "    total_flow *= 24*3600/1e9 \n",
    "    \n",
    "    total_flow = total_flow.reset_index(level=0)\n",
    "    total_flow.rename(columns={'Date':'Year'},inplace=True)\n",
    "    total_flow.index.names=['Month']\n",
    "    total_flow = pd.pivot(total_flow,columns='Year',values=key)\n",
    "    total_flow.replace(np.NaN,'',inplace=True)\n",
    "    total_flow.rename(index=dict(zip(range(1,13),month_names)),inplace=True)\n",
    "    return total_flow"
   ]
  },
  {
   "cell_type": "code",
   "execution_count": 53,
   "metadata": {
    "scrolled": false
   },
   "outputs": [
    {
     "data": {
      "text/html": [
       "<div>\n",
       "<style scoped>\n",
       "    .dataframe tbody tr th:only-of-type {\n",
       "        vertical-align: middle;\n",
       "    }\n",
       "\n",
       "    .dataframe tbody tr th {\n",
       "        vertical-align: top;\n",
       "    }\n",
       "\n",
       "    .dataframe thead th {\n",
       "        text-align: right;\n",
       "    }\n",
       "</style>\n",
       "<table border=\"1\" class=\"dataframe\">\n",
       "  <thead>\n",
       "    <tr style=\"text-align: right;\">\n",
       "      <th>Year</th>\n",
       "      <th>2010</th>\n",
       "      <th>2011</th>\n",
       "      <th>2012</th>\n",
       "      <th>2013</th>\n",
       "      <th>2014</th>\n",
       "      <th>2015</th>\n",
       "      <th>2016</th>\n",
       "      <th>2017</th>\n",
       "      <th>2018</th>\n",
       "      <th>2019</th>\n",
       "    </tr>\n",
       "    <tr>\n",
       "      <th>Month</th>\n",
       "      <th></th>\n",
       "      <th></th>\n",
       "      <th></th>\n",
       "      <th></th>\n",
       "      <th></th>\n",
       "      <th></th>\n",
       "      <th></th>\n",
       "      <th></th>\n",
       "      <th></th>\n",
       "      <th></th>\n",
       "    </tr>\n",
       "  </thead>\n",
       "  <tbody>\n",
       "    <tr>\n",
       "      <th>Jan</th>\n",
       "      <td></td>\n",
       "      <td>5.343408</td>\n",
       "      <td></td>\n",
       "      <td></td>\n",
       "      <td>2.521757</td>\n",
       "      <td>3.033936</td>\n",
       "      <td>1.444781</td>\n",
       "      <td>0.682214</td>\n",
       "      <td>0.540086</td>\n",
       "      <td>0.88033</td>\n",
       "    </tr>\n",
       "    <tr>\n",
       "      <th>Feb</th>\n",
       "      <td></td>\n",
       "      <td>1.708042</td>\n",
       "      <td></td>\n",
       "      <td>1.80654</td>\n",
       "      <td>0.710208</td>\n",
       "      <td>0.799027</td>\n",
       "      <td>0.850435</td>\n",
       "      <td>1.795910</td>\n",
       "      <td>0.402538</td>\n",
       "      <td>0.458957</td>\n",
       "    </tr>\n",
       "    <tr>\n",
       "      <th>Mar</th>\n",
       "      <td></td>\n",
       "      <td>1.930608</td>\n",
       "      <td></td>\n",
       "      <td>1.00414</td>\n",
       "      <td>0.432086</td>\n",
       "      <td>0.791683</td>\n",
       "      <td>0.755482</td>\n",
       "      <td>0.891734</td>\n",
       "      <td>0.436147</td>\n",
       "      <td>0.306979</td>\n",
       "    </tr>\n",
       "    <tr>\n",
       "      <th>Apr</th>\n",
       "      <td></td>\n",
       "      <td>3.615408</td>\n",
       "      <td></td>\n",
       "      <td>0.881798</td>\n",
       "      <td>0.400032</td>\n",
       "      <td>0.659664</td>\n",
       "      <td>0.419990</td>\n",
       "      <td>0.823565</td>\n",
       "      <td>0.414374</td>\n",
       "      <td>0.311126</td>\n",
       "    </tr>\n",
       "    <tr>\n",
       "      <th>May</th>\n",
       "      <td></td>\n",
       "      <td>2.964643</td>\n",
       "      <td></td>\n",
       "      <td>2.08837</td>\n",
       "      <td>1.487462</td>\n",
       "      <td>1.206058</td>\n",
       "      <td>0.352512</td>\n",
       "      <td>0.832205</td>\n",
       "      <td>3.113510</td>\n",
       "      <td>0.401328</td>\n",
       "    </tr>\n",
       "    <tr>\n",
       "      <th>Jun</th>\n",
       "      <td></td>\n",
       "      <td>14.033002</td>\n",
       "      <td>1.86201</td>\n",
       "      <td>14.5633</td>\n",
       "      <td>6.143990</td>\n",
       "      <td>22.199184</td>\n",
       "      <td>2.766096</td>\n",
       "      <td>3.386362</td>\n",
       "      <td>23.836982</td>\n",
       "      <td>0.593309</td>\n",
       "    </tr>\n",
       "    <tr>\n",
       "      <th>Jul</th>\n",
       "      <td></td>\n",
       "      <td>29.833574</td>\n",
       "      <td>8.64233</td>\n",
       "      <td>68.485</td>\n",
       "      <td>39.434170</td>\n",
       "      <td>16.083965</td>\n",
       "      <td>28.300147</td>\n",
       "      <td>15.695510</td>\n",
       "      <td>86.539450</td>\n",
       "      <td>11.089</td>\n",
       "    </tr>\n",
       "    <tr>\n",
       "      <th>Aug</th>\n",
       "      <td></td>\n",
       "      <td>36.571306</td>\n",
       "      <td>22.2439</td>\n",
       "      <td>52.7095</td>\n",
       "      <td>46.711123</td>\n",
       "      <td>19.750608</td>\n",
       "      <td>19.090166</td>\n",
       "      <td>24.932794</td>\n",
       "      <td>102.328790</td>\n",
       "      <td></td>\n",
       "    </tr>\n",
       "    <tr>\n",
       "      <th>Sep</th>\n",
       "      <td></td>\n",
       "      <td>39.494909</td>\n",
       "      <td>21.0377</td>\n",
       "      <td>12.3703</td>\n",
       "      <td>27.892253</td>\n",
       "      <td>16.041197</td>\n",
       "      <td>14.440550</td>\n",
       "      <td>23.757754</td>\n",
       "      <td>10.553674</td>\n",
       "      <td></td>\n",
       "    </tr>\n",
       "    <tr>\n",
       "      <th>Oct</th>\n",
       "      <td></td>\n",
       "      <td>20.718547</td>\n",
       "      <td>12.3866</td>\n",
       "      <td>8.63533</td>\n",
       "      <td>15.842909</td>\n",
       "      <td>12.085200</td>\n",
       "      <td>4.623782</td>\n",
       "      <td>10.769155</td>\n",
       "      <td>12.909283</td>\n",
       "      <td></td>\n",
       "    </tr>\n",
       "    <tr>\n",
       "      <th>Nov</th>\n",
       "      <td></td>\n",
       "      <td>17.206733</td>\n",
       "      <td>6.95546</td>\n",
       "      <td>6.8866</td>\n",
       "      <td>4.991414</td>\n",
       "      <td>11.967437</td>\n",
       "      <td>4.029264</td>\n",
       "      <td>4.506278</td>\n",
       "      <td>2.669328</td>\n",
       "      <td></td>\n",
       "    </tr>\n",
       "    <tr>\n",
       "      <th>Dec</th>\n",
       "      <td></td>\n",
       "      <td>12.328934</td>\n",
       "      <td>5.60779</td>\n",
       "      <td>7.51732</td>\n",
       "      <td>9.256896</td>\n",
       "      <td>4.255546</td>\n",
       "      <td>1.247098</td>\n",
       "      <td>2.087683</td>\n",
       "      <td>3.245098</td>\n",
       "      <td></td>\n",
       "    </tr>\n",
       "  </tbody>\n",
       "</table>\n",
       "</div>"
      ],
      "text/plain": [
       "Year  2010       2011     2012      2013       2014       2015       2016  \\\n",
       "Month                                                                       \n",
       "Jan          5.343408                      2.521757   3.033936   1.444781   \n",
       "Feb          1.708042            1.80654   0.710208   0.799027   0.850435   \n",
       "Mar          1.930608            1.00414   0.432086   0.791683   0.755482   \n",
       "Apr          3.615408           0.881798   0.400032   0.659664   0.419990   \n",
       "May          2.964643            2.08837   1.487462   1.206058   0.352512   \n",
       "Jun         14.033002  1.86201   14.5633   6.143990  22.199184   2.766096   \n",
       "Jul         29.833574  8.64233    68.485  39.434170  16.083965  28.300147   \n",
       "Aug         36.571306  22.2439   52.7095  46.711123  19.750608  19.090166   \n",
       "Sep         39.494909  21.0377   12.3703  27.892253  16.041197  14.440550   \n",
       "Oct         20.718547  12.3866   8.63533  15.842909  12.085200   4.623782   \n",
       "Nov         17.206733  6.95546    6.8866   4.991414  11.967437   4.029264   \n",
       "Dec         12.328934  5.60779   7.51732   9.256896   4.255546   1.247098   \n",
       "\n",
       "Year        2017        2018      2019  \n",
       "Month                                   \n",
       "Jan     0.682214    0.540086   0.88033  \n",
       "Feb     1.795910    0.402538  0.458957  \n",
       "Mar     0.891734    0.436147  0.306979  \n",
       "Apr     0.823565    0.414374  0.311126  \n",
       "May     0.832205    3.113510  0.401328  \n",
       "Jun     3.386362   23.836982  0.593309  \n",
       "Jul    15.695510   86.539450    11.089  \n",
       "Aug    24.932794  102.328790            \n",
       "Sep    23.757754   10.553674            \n",
       "Oct    10.769155   12.909283            \n",
       "Nov     4.506278    2.669328            \n",
       "Dec     2.087683    3.245098            "
      ]
     },
     "execution_count": 53,
     "metadata": {},
     "output_type": "execute_result"
    }
   ],
   "source": [
    "cumulative_flow('Inflow')"
   ]
  },
  {
   "cell_type": "code",
   "execution_count": 54,
   "metadata": {},
   "outputs": [
    {
     "data": {
      "text/html": [
       "<div>\n",
       "<style scoped>\n",
       "    .dataframe tbody tr th:only-of-type {\n",
       "        vertical-align: middle;\n",
       "    }\n",
       "\n",
       "    .dataframe tbody tr th {\n",
       "        vertical-align: top;\n",
       "    }\n",
       "\n",
       "    .dataframe thead th {\n",
       "        text-align: right;\n",
       "    }\n",
       "</style>\n",
       "<table border=\"1\" class=\"dataframe\">\n",
       "  <thead>\n",
       "    <tr style=\"text-align: right;\">\n",
       "      <th>Year</th>\n",
       "      <th>2010</th>\n",
       "      <th>2011</th>\n",
       "      <th>2012</th>\n",
       "      <th>2013</th>\n",
       "      <th>2014</th>\n",
       "      <th>2015</th>\n",
       "      <th>2016</th>\n",
       "      <th>2017</th>\n",
       "      <th>2018</th>\n",
       "      <th>2019</th>\n",
       "    </tr>\n",
       "    <tr>\n",
       "      <th>Month</th>\n",
       "      <th></th>\n",
       "      <th></th>\n",
       "      <th></th>\n",
       "      <th></th>\n",
       "      <th></th>\n",
       "      <th></th>\n",
       "      <th></th>\n",
       "      <th></th>\n",
       "      <th></th>\n",
       "      <th></th>\n",
       "    </tr>\n",
       "  </thead>\n",
       "  <tbody>\n",
       "    <tr>\n",
       "      <th>Jan</th>\n",
       "      <td></td>\n",
       "      <td>9.934013</td>\n",
       "      <td></td>\n",
       "      <td></td>\n",
       "      <td>2.957472</td>\n",
       "      <td>7.341581</td>\n",
       "      <td>5.913907</td>\n",
       "      <td>0.680314</td>\n",
       "      <td>5.025110</td>\n",
       "      <td>4.84877</td>\n",
       "    </tr>\n",
       "    <tr>\n",
       "      <th>Feb</th>\n",
       "      <td></td>\n",
       "      <td>8.033472</td>\n",
       "      <td></td>\n",
       "      <td>4.05311</td>\n",
       "      <td>2.136931</td>\n",
       "      <td>7.299677</td>\n",
       "      <td>5.847379</td>\n",
       "      <td>0.631325</td>\n",
       "      <td>5.357578</td>\n",
       "      <td>4.86112</td>\n",
       "    </tr>\n",
       "    <tr>\n",
       "      <th>Mar</th>\n",
       "      <td></td>\n",
       "      <td>8.359805</td>\n",
       "      <td></td>\n",
       "      <td>1.9599</td>\n",
       "      <td>3.625776</td>\n",
       "      <td>7.760448</td>\n",
       "      <td>6.047741</td>\n",
       "      <td>2.477779</td>\n",
       "      <td>5.198602</td>\n",
       "      <td>6.90284</td>\n",
       "    </tr>\n",
       "    <tr>\n",
       "      <th>Apr</th>\n",
       "      <td></td>\n",
       "      <td>5.848934</td>\n",
       "      <td></td>\n",
       "      <td>2.32649</td>\n",
       "      <td>7.059917</td>\n",
       "      <td>7.642944</td>\n",
       "      <td>1.497139</td>\n",
       "      <td>2.466202</td>\n",
       "      <td>3.045686</td>\n",
       "      <td>5.96886</td>\n",
       "    </tr>\n",
       "    <tr>\n",
       "      <th>May</th>\n",
       "      <td></td>\n",
       "      <td>10.526717</td>\n",
       "      <td></td>\n",
       "      <td>2.43268</td>\n",
       "      <td>6.135610</td>\n",
       "      <td>5.057251</td>\n",
       "      <td>1.176509</td>\n",
       "      <td>1.936138</td>\n",
       "      <td>2.255818</td>\n",
       "      <td>2.58137</td>\n",
       "    </tr>\n",
       "    <tr>\n",
       "      <th>Jun</th>\n",
       "      <td></td>\n",
       "      <td>7.081517</td>\n",
       "      <td>0.924307</td>\n",
       "      <td>3.6345</td>\n",
       "      <td>2.527546</td>\n",
       "      <td>2.768342</td>\n",
       "      <td>4.077734</td>\n",
       "      <td>2.306016</td>\n",
       "      <td>2.956694</td>\n",
       "      <td>0.839635</td>\n",
       "    </tr>\n",
       "    <tr>\n",
       "      <th>Jul</th>\n",
       "      <td></td>\n",
       "      <td>13.554864</td>\n",
       "      <td>8.0517</td>\n",
       "      <td>35.9618</td>\n",
       "      <td>8.096458</td>\n",
       "      <td>15.244848</td>\n",
       "      <td>14.313370</td>\n",
       "      <td>7.023024</td>\n",
       "      <td>68.611795</td>\n",
       "      <td>8.40551</td>\n",
       "    </tr>\n",
       "    <tr>\n",
       "      <th>Aug</th>\n",
       "      <td></td>\n",
       "      <td>27.908150</td>\n",
       "      <td>6.40094</td>\n",
       "      <td>52.278</td>\n",
       "      <td>36.317376</td>\n",
       "      <td>21.864211</td>\n",
       "      <td>23.273827</td>\n",
       "      <td>19.619107</td>\n",
       "      <td>98.922211</td>\n",
       "      <td></td>\n",
       "    </tr>\n",
       "    <tr>\n",
       "      <th>Sep</th>\n",
       "      <td></td>\n",
       "      <td>40.570157</td>\n",
       "      <td>14.4221</td>\n",
       "      <td>11.6836</td>\n",
       "      <td>24.098342</td>\n",
       "      <td>16.284326</td>\n",
       "      <td>16.251408</td>\n",
       "      <td>16.242077</td>\n",
       "      <td>12.074400</td>\n",
       "      <td></td>\n",
       "    </tr>\n",
       "    <tr>\n",
       "      <th>Oct</th>\n",
       "      <td></td>\n",
       "      <td>18.248112</td>\n",
       "      <td>14.6592</td>\n",
       "      <td>9.66462</td>\n",
       "      <td>16.044739</td>\n",
       "      <td>59.407690</td>\n",
       "      <td>10.455523</td>\n",
       "      <td>6.789485</td>\n",
       "      <td>11.161757</td>\n",
       "      <td></td>\n",
       "    </tr>\n",
       "    <tr>\n",
       "      <th>Nov</th>\n",
       "      <td></td>\n",
       "      <td>19.350230</td>\n",
       "      <td>12.3157</td>\n",
       "      <td>10.9284</td>\n",
       "      <td>10.398758</td>\n",
       "      <td>6.532618</td>\n",
       "      <td>3.210538</td>\n",
       "      <td>7.825939</td>\n",
       "      <td>11.413094</td>\n",
       "      <td></td>\n",
       "    </tr>\n",
       "    <tr>\n",
       "      <th>Dec</th>\n",
       "      <td></td>\n",
       "      <td>16.460496</td>\n",
       "      <td>15.9535</td>\n",
       "      <td>10.3975</td>\n",
       "      <td>12.427258</td>\n",
       "      <td>7.522502</td>\n",
       "      <td>0.663379</td>\n",
       "      <td>6.403709</td>\n",
       "      <td>5.403197</td>\n",
       "      <td></td>\n",
       "    </tr>\n",
       "  </tbody>\n",
       "</table>\n",
       "</div>"
      ],
      "text/plain": [
       "Year  2010       2011      2012     2013       2014       2015       2016  \\\n",
       "Month                                                                       \n",
       "Jan          9.934013                      2.957472   7.341581   5.913907   \n",
       "Feb          8.033472            4.05311   2.136931   7.299677   5.847379   \n",
       "Mar          8.359805             1.9599   3.625776   7.760448   6.047741   \n",
       "Apr          5.848934            2.32649   7.059917   7.642944   1.497139   \n",
       "May         10.526717            2.43268   6.135610   5.057251   1.176509   \n",
       "Jun          7.081517  0.924307   3.6345   2.527546   2.768342   4.077734   \n",
       "Jul         13.554864    8.0517  35.9618   8.096458  15.244848  14.313370   \n",
       "Aug         27.908150   6.40094   52.278  36.317376  21.864211  23.273827   \n",
       "Sep         40.570157   14.4221  11.6836  24.098342  16.284326  16.251408   \n",
       "Oct         18.248112   14.6592  9.66462  16.044739  59.407690  10.455523   \n",
       "Nov         19.350230   12.3157  10.9284  10.398758   6.532618   3.210538   \n",
       "Dec         16.460496   15.9535  10.3975  12.427258   7.522502   0.663379   \n",
       "\n",
       "Year        2017       2018      2019  \n",
       "Month                                  \n",
       "Jan     0.680314   5.025110   4.84877  \n",
       "Feb     0.631325   5.357578   4.86112  \n",
       "Mar     2.477779   5.198602   6.90284  \n",
       "Apr     2.466202   3.045686   5.96886  \n",
       "May     1.936138   2.255818   2.58137  \n",
       "Jun     2.306016   2.956694  0.839635  \n",
       "Jul     7.023024  68.611795   8.40551  \n",
       "Aug    19.619107  98.922211            \n",
       "Sep    16.242077  12.074400            \n",
       "Oct     6.789485  11.161757            \n",
       "Nov     7.825939  11.413094            \n",
       "Dec     6.403709   5.403197            "
      ]
     },
     "execution_count": 54,
     "metadata": {},
     "output_type": "execute_result"
    }
   ],
   "source": [
    "cumulative_flow('Outflow')"
   ]
  },
  {
   "cell_type": "markdown",
   "metadata": {},
   "source": [
    "### Monthly cumulative inflow in deficit year\n",
    "\n",
    "#### A measure of how much inflows  we can expect post monsoon in a lean year, such as the current one."
   ]
  },
  {
   "cell_type": "code",
   "execution_count": 55,
   "metadata": {
    "scrolled": false
   },
   "outputs": [
    {
     "data": {
      "text/html": [
       "<div>\n",
       "<style scoped>\n",
       "    .dataframe tbody tr th:only-of-type {\n",
       "        vertical-align: middle;\n",
       "    }\n",
       "\n",
       "    .dataframe tbody tr th {\n",
       "        vertical-align: top;\n",
       "    }\n",
       "\n",
       "    .dataframe thead th {\n",
       "        text-align: right;\n",
       "    }\n",
       "</style>\n",
       "<table border=\"1\" class=\"dataframe\">\n",
       "  <thead>\n",
       "    <tr style=\"text-align: right;\">\n",
       "      <th>Year</th>\n",
       "      <th>2010</th>\n",
       "      <th>2012</th>\n",
       "      <th>2015</th>\n",
       "      <th>2016</th>\n",
       "      <th>2017</th>\n",
       "      <th>2019</th>\n",
       "    </tr>\n",
       "    <tr>\n",
       "      <th>Month</th>\n",
       "      <th></th>\n",
       "      <th></th>\n",
       "      <th></th>\n",
       "      <th></th>\n",
       "      <th></th>\n",
       "      <th></th>\n",
       "    </tr>\n",
       "  </thead>\n",
       "  <tbody>\n",
       "    <tr>\n",
       "      <th>Jan</th>\n",
       "      <td></td>\n",
       "      <td></td>\n",
       "      <td>3.033936</td>\n",
       "      <td>1.444781</td>\n",
       "      <td>0.682214</td>\n",
       "      <td>0.88033</td>\n",
       "    </tr>\n",
       "    <tr>\n",
       "      <th>Feb</th>\n",
       "      <td></td>\n",
       "      <td></td>\n",
       "      <td>0.799027</td>\n",
       "      <td>0.850435</td>\n",
       "      <td>1.795910</td>\n",
       "      <td>0.458957</td>\n",
       "    </tr>\n",
       "    <tr>\n",
       "      <th>Mar</th>\n",
       "      <td></td>\n",
       "      <td></td>\n",
       "      <td>0.791683</td>\n",
       "      <td>0.755482</td>\n",
       "      <td>0.891734</td>\n",
       "      <td>0.306979</td>\n",
       "    </tr>\n",
       "    <tr>\n",
       "      <th>Apr</th>\n",
       "      <td></td>\n",
       "      <td></td>\n",
       "      <td>0.659664</td>\n",
       "      <td>0.419990</td>\n",
       "      <td>0.823565</td>\n",
       "      <td>0.311126</td>\n",
       "    </tr>\n",
       "    <tr>\n",
       "      <th>May</th>\n",
       "      <td></td>\n",
       "      <td></td>\n",
       "      <td>1.206058</td>\n",
       "      <td>0.352512</td>\n",
       "      <td>0.832205</td>\n",
       "      <td>0.401328</td>\n",
       "    </tr>\n",
       "    <tr>\n",
       "      <th>Jun</th>\n",
       "      <td></td>\n",
       "      <td>1.86201</td>\n",
       "      <td>22.199184</td>\n",
       "      <td>2.766096</td>\n",
       "      <td>3.386362</td>\n",
       "      <td>0.593309</td>\n",
       "    </tr>\n",
       "    <tr>\n",
       "      <th>Jul</th>\n",
       "      <td></td>\n",
       "      <td>8.64233</td>\n",
       "      <td>16.083965</td>\n",
       "      <td>28.300147</td>\n",
       "      <td>15.695510</td>\n",
       "      <td>11.089</td>\n",
       "    </tr>\n",
       "    <tr>\n",
       "      <th>Aug</th>\n",
       "      <td></td>\n",
       "      <td>22.2439</td>\n",
       "      <td>19.750608</td>\n",
       "      <td>19.090166</td>\n",
       "      <td>24.932794</td>\n",
       "      <td></td>\n",
       "    </tr>\n",
       "    <tr>\n",
       "      <th>Sep</th>\n",
       "      <td></td>\n",
       "      <td>21.0377</td>\n",
       "      <td>16.041197</td>\n",
       "      <td>14.440550</td>\n",
       "      <td>23.757754</td>\n",
       "      <td></td>\n",
       "    </tr>\n",
       "    <tr>\n",
       "      <th>Oct</th>\n",
       "      <td></td>\n",
       "      <td>12.3866</td>\n",
       "      <td>12.085200</td>\n",
       "      <td>4.623782</td>\n",
       "      <td>10.769155</td>\n",
       "      <td></td>\n",
       "    </tr>\n",
       "    <tr>\n",
       "      <th>Nov</th>\n",
       "      <td></td>\n",
       "      <td>6.95546</td>\n",
       "      <td>11.967437</td>\n",
       "      <td>4.029264</td>\n",
       "      <td>4.506278</td>\n",
       "      <td></td>\n",
       "    </tr>\n",
       "    <tr>\n",
       "      <th>Dec</th>\n",
       "      <td></td>\n",
       "      <td>5.60779</td>\n",
       "      <td>4.255546</td>\n",
       "      <td>1.247098</td>\n",
       "      <td>2.087683</td>\n",
       "      <td></td>\n",
       "    </tr>\n",
       "  </tbody>\n",
       "</table>\n",
       "</div>"
      ],
      "text/plain": [
       "Year  2010     2012       2015       2016       2017      2019\n",
       "Month                                                         \n",
       "Jan                   3.033936   1.444781   0.682214   0.88033\n",
       "Feb                   0.799027   0.850435   1.795910  0.458957\n",
       "Mar                   0.791683   0.755482   0.891734  0.306979\n",
       "Apr                   0.659664   0.419990   0.823565  0.311126\n",
       "May                   1.206058   0.352512   0.832205  0.401328\n",
       "Jun         1.86201  22.199184   2.766096   3.386362  0.593309\n",
       "Jul         8.64233  16.083965  28.300147  15.695510    11.089\n",
       "Aug         22.2439  19.750608  19.090166  24.932794          \n",
       "Sep         21.0377  16.041197  14.440550  23.757754          \n",
       "Oct         12.3866  12.085200   4.623782  10.769155          \n",
       "Nov         6.95546  11.967437   4.029264   4.506278          \n",
       "Dec         5.60779   4.255546   1.247098   2.087683          "
      ]
     },
     "execution_count": 55,
     "metadata": {},
     "output_type": "execute_result"
    }
   ],
   "source": [
    "cumulative_flow()[deficit_year.index[deficit_year].values]"
   ]
  },
  {
   "cell_type": "markdown",
   "metadata": {},
   "source": [
    "### Monthly cumulative inflow in bountiful year\n",
    "##### Good days, nothing to worry"
   ]
  },
  {
   "cell_type": "code",
   "execution_count": 56,
   "metadata": {
    "scrolled": false
   },
   "outputs": [
    {
     "data": {
      "text/html": [
       "<div>\n",
       "<style scoped>\n",
       "    .dataframe tbody tr th:only-of-type {\n",
       "        vertical-align: middle;\n",
       "    }\n",
       "\n",
       "    .dataframe tbody tr th {\n",
       "        vertical-align: top;\n",
       "    }\n",
       "\n",
       "    .dataframe thead th {\n",
       "        text-align: right;\n",
       "    }\n",
       "</style>\n",
       "<table border=\"1\" class=\"dataframe\">\n",
       "  <thead>\n",
       "    <tr style=\"text-align: right;\">\n",
       "      <th>Year</th>\n",
       "      <th>2011</th>\n",
       "      <th>2013</th>\n",
       "      <th>2014</th>\n",
       "      <th>2018</th>\n",
       "    </tr>\n",
       "    <tr>\n",
       "      <th>Month</th>\n",
       "      <th></th>\n",
       "      <th></th>\n",
       "      <th></th>\n",
       "      <th></th>\n",
       "    </tr>\n",
       "  </thead>\n",
       "  <tbody>\n",
       "    <tr>\n",
       "      <th>Jan</th>\n",
       "      <td>5.343408</td>\n",
       "      <td></td>\n",
       "      <td>2.521757</td>\n",
       "      <td>0.540086</td>\n",
       "    </tr>\n",
       "    <tr>\n",
       "      <th>Feb</th>\n",
       "      <td>1.708042</td>\n",
       "      <td>1.80654</td>\n",
       "      <td>0.710208</td>\n",
       "      <td>0.402538</td>\n",
       "    </tr>\n",
       "    <tr>\n",
       "      <th>Mar</th>\n",
       "      <td>1.930608</td>\n",
       "      <td>1.00414</td>\n",
       "      <td>0.432086</td>\n",
       "      <td>0.436147</td>\n",
       "    </tr>\n",
       "    <tr>\n",
       "      <th>Apr</th>\n",
       "      <td>3.615408</td>\n",
       "      <td>0.881798</td>\n",
       "      <td>0.400032</td>\n",
       "      <td>0.414374</td>\n",
       "    </tr>\n",
       "    <tr>\n",
       "      <th>May</th>\n",
       "      <td>2.964643</td>\n",
       "      <td>2.08837</td>\n",
       "      <td>1.487462</td>\n",
       "      <td>3.113510</td>\n",
       "    </tr>\n",
       "    <tr>\n",
       "      <th>Jun</th>\n",
       "      <td>14.033002</td>\n",
       "      <td>14.5633</td>\n",
       "      <td>6.143990</td>\n",
       "      <td>23.836982</td>\n",
       "    </tr>\n",
       "    <tr>\n",
       "      <th>Jul</th>\n",
       "      <td>29.833574</td>\n",
       "      <td>68.485</td>\n",
       "      <td>39.434170</td>\n",
       "      <td>86.539450</td>\n",
       "    </tr>\n",
       "    <tr>\n",
       "      <th>Aug</th>\n",
       "      <td>36.571306</td>\n",
       "      <td>52.7095</td>\n",
       "      <td>46.711123</td>\n",
       "      <td>102.328790</td>\n",
       "    </tr>\n",
       "    <tr>\n",
       "      <th>Sep</th>\n",
       "      <td>39.494909</td>\n",
       "      <td>12.3703</td>\n",
       "      <td>27.892253</td>\n",
       "      <td>10.553674</td>\n",
       "    </tr>\n",
       "    <tr>\n",
       "      <th>Oct</th>\n",
       "      <td>20.718547</td>\n",
       "      <td>8.63533</td>\n",
       "      <td>15.842909</td>\n",
       "      <td>12.909283</td>\n",
       "    </tr>\n",
       "    <tr>\n",
       "      <th>Nov</th>\n",
       "      <td>17.206733</td>\n",
       "      <td>6.8866</td>\n",
       "      <td>4.991414</td>\n",
       "      <td>2.669328</td>\n",
       "    </tr>\n",
       "    <tr>\n",
       "      <th>Dec</th>\n",
       "      <td>12.328934</td>\n",
       "      <td>7.51732</td>\n",
       "      <td>9.256896</td>\n",
       "      <td>3.245098</td>\n",
       "    </tr>\n",
       "  </tbody>\n",
       "</table>\n",
       "</div>"
      ],
      "text/plain": [
       "Year        2011      2013       2014        2018\n",
       "Month                                            \n",
       "Jan     5.343408             2.521757    0.540086\n",
       "Feb     1.708042   1.80654   0.710208    0.402538\n",
       "Mar     1.930608   1.00414   0.432086    0.436147\n",
       "Apr     3.615408  0.881798   0.400032    0.414374\n",
       "May     2.964643   2.08837   1.487462    3.113510\n",
       "Jun    14.033002   14.5633   6.143990   23.836982\n",
       "Jul    29.833574    68.485  39.434170   86.539450\n",
       "Aug    36.571306   52.7095  46.711123  102.328790\n",
       "Sep    39.494909   12.3703  27.892253   10.553674\n",
       "Oct    20.718547   8.63533  15.842909   12.909283\n",
       "Nov    17.206733    6.8866   4.991414    2.669328\n",
       "Dec    12.328934   7.51732   9.256896    3.245098"
      ]
     },
     "execution_count": 56,
     "metadata": {},
     "output_type": "execute_result"
    }
   ],
   "source": [
    "cumulative_flow()[bountiful_year.index[bountiful_year].values]"
   ]
  }
 ],
 "metadata": {
  "kernelspec": {
   "display_name": "Python 3",
   "language": "python",
   "name": "python3"
  },
  "language_info": {
   "codemirror_mode": {
    "name": "ipython",
    "version": 3
   },
   "file_extension": ".py",
   "mimetype": "text/x-python",
   "name": "python",
   "nbconvert_exporter": "python",
   "pygments_lexer": "ipython3",
   "version": "3.7.3"
  }
 },
 "nbformat": 4,
 "nbformat_minor": 2
}
